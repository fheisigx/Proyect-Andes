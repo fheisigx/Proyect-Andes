{
 "cells": [
  {
   "cell_type": "code",
   "execution_count": 54,
   "metadata": {
    "collapsed": true
   },
   "outputs": [],
   "source": [
    "import pandas as pd\n",
    "import numpy as np\n",
    "from openpyxl import load_workbook\n",
    "import os\n",
    "import matplotlib.pyplot as plt"
   ]
  },
  {
   "cell_type": "code",
   "execution_count": 2,
   "metadata": {
    "collapsed": false
   },
   "outputs": [
    {
     "name": "stderr",
     "output_type": "stream",
     "text": [
      "C:\\Anaconda3\\lib\\site-packages\\openpyxl\\workbook\\names\\named_range.py:124: UserWarning: Discarded range with reserved name\n",
      "  warnings.warn(\"Discarded range with reserved name\")\n"
     ]
    }
   ],
   "source": [
    "#xl = pd.ExcelFile('Retiros 2015.xlsx')\n",
    "\n",
    "#xl.sheet_names  # see all sheet names\n",
    "File_Name = 'Retiros 2016.xlsx'\n",
    "\n",
    "wb = load_workbook(filename = File_Name, use_iterators = True)\n",
    "List_Sheets = wb.get_sheet_names()"
   ]
  },
  {
   "cell_type": "code",
   "execution_count": 4,
   "metadata": {
    "collapsed": false
   },
   "outputs": [],
   "source": [
    "frame = pd.DataFrame()\n",
    "list_ = []\n",
    "\n",
    "for Month in List_Sheets:  \n",
    "    df = pd.read_excel(File_Name,sheetname= Month, skiprows=0, header = None)\n",
    "    \n",
    "    list1 = df.iloc[0,:].tolist()\n",
    "    list2 = df.iloc[1,:].tolist()\n",
    "    list3 = df.iloc[2,:].tolist()\n",
    "    A = ['{}*{}*{}'.format(a,b,c) for a, b,c in zip(list1, list2,list3)]\n",
    "    A = [elem.strip() for elem in A]\n",
    "    A[0] = 'Date'\n",
    "    A[1] = 'Hour'\n",
    "\n",
    "    df.columns = A\n",
    "    df = df.iloc[4:,:]\n",
    "\n",
    "    df = df.set_index(['Date','Hour'])\n",
    "    df = df.groupby(df.columns, axis=1).sum()\n",
    "    \n",
    "    list_.append(df)\n",
    "    \n",
    "frame = pd.concat(list_,axis = 0)"
   ]
  },
  {
   "cell_type": "code",
   "execution_count": 6,
   "metadata": {
    "collapsed": false
   },
   "outputs": [],
   "source": [
    "frame = frame.loc[:,(frame.sum(axis=0) != 0)]"
   ]
  },
  {
   "cell_type": "code",
   "execution_count": 101,
   "metadata": {
    "collapsed": false
   },
   "outputs": [],
   "source": [
    "aux = frame.reset_index()\n",
    "aux['Time'] = pd.to_datetime(aux['Date']+pd.to_timedelta((aux['Hour']-1),unit='h') )\n",
    "aux = aux.drop(['Date','Hour'],1)\n",
    "aux = aux.set_index(['Time'])"
   ]
  },
  {
   "cell_type": "code",
   "execution_count": 102,
   "metadata": {
    "collapsed": false
   },
   "outputs": [],
   "source": [
    "frame2 = aux.transpose()\n",
    "frame2 = frame2.reset_index()\n",
    "\n",
    "frame2['Bus'], frame2['Cliente'], frame2['Gen']  = frame2['index'].str.split('*', 2).str\n",
    "frame2 = frame2.drop(['index'],1)\n",
    "\n",
    "Dates = frame2.columns\n",
    "#frame2.columns = [i for i in range(frame2.shape[1]-3)] +['Bus','Cliente','Gen']\n",
    "#frame2 = frame2.apply(pd.to_numeric, errors='ignore')\n",
    "\n",
    "frame4 = frame2.groupby(['Cliente','Bus'],as_index=False).sum()\n",
    "frame4 = frame4.set_index(['Cliente','Bus']).transpose()"
   ]
  },
  {
   "cell_type": "code",
   "execution_count": null,
   "metadata": {
    "collapsed": false
   },
   "outputs": [],
   "source": []
  },
  {
   "cell_type": "code",
   "execution_count": null,
   "metadata": {
    "collapsed": false
   },
   "outputs": [],
   "source": []
  },
  {
   "cell_type": "code",
   "execution_count": null,
   "metadata": {
    "collapsed": false
   },
   "outputs": [],
   "source": []
  },
  {
   "cell_type": "code",
   "execution_count": 103,
   "metadata": {
    "collapsed": false
   },
   "outputs": [],
   "source": [
    "frame4.columns = ['%s%s' % (a, '*%s' % b if b else '') for a, b in frame4.columns]"
   ]
  },
  {
   "cell_type": "code",
   "execution_count": 70,
   "metadata": {
    "collapsed": false
   },
   "outputs": [],
   "source": [
    "frame4['ATACAMA MINERALS | Aguas Blancas 13 kV'].plot().set_title('ATACAMA MINERALS | Aguas Blancas 13 kV')\n",
    "plt.show()"
   ]
  },
  {
   "cell_type": "code",
   "execution_count": 66,
   "metadata": {
    "collapsed": false
   },
   "outputs": [
    {
     "ename": "AttributeError",
     "evalue": "'NoneType' object has no attribute 'savefig'",
     "output_type": "error",
     "traceback": [
      "\u001b[1;31m---------------------------------------------------------------------------\u001b[0m",
      "\u001b[1;31mAttributeError\u001b[0m                            Traceback (most recent call last)",
      "\u001b[1;32m<ipython-input-66-4642b088ed4c>\u001b[0m in \u001b[0;36m<module>\u001b[1;34m()\u001b[0m\n\u001b[1;32m----> 1\u001b[1;33m \u001b[0ma\u001b[0m\u001b[1;33m.\u001b[0m\u001b[0msavefig\u001b[0m\u001b[1;33m(\u001b[0m\u001b[1;34m'temp.png'\u001b[0m\u001b[1;33m,\u001b[0m \u001b[0mdpi\u001b[0m\u001b[1;33m=\u001b[0m\u001b[0mfig\u001b[0m\u001b[1;33m.\u001b[0m\u001b[0mdpi\u001b[0m\u001b[1;33m)\u001b[0m\u001b[1;33m\u001b[0m\u001b[0m\n\u001b[0m",
      "\u001b[1;31mAttributeError\u001b[0m: 'NoneType' object has no attribute 'savefig'"
     ]
    }
   ],
   "source": [
    "a.savefig('temp.png', dpi=fig.dpi)"
   ]
  },
  {
   "cell_type": "code",
   "execution_count": null,
   "metadata": {
    "collapsed": false
   },
   "outputs": [],
   "source": []
  },
  {
   "cell_type": "code",
   "execution_count": null,
   "metadata": {
    "collapsed": false
   },
   "outputs": [],
   "source": []
  },
  {
   "cell_type": "code",
   "execution_count": 99,
   "metadata": {
    "collapsed": false
   },
   "outputs": [],
   "source": [
    "plt.clf()\n",
    "i = 0\n",
    "for column in frame4:\n",
    "    ax = frame4[column].plot().set_title(str(i)+'_'+column)\n",
    "    plt.ylabel('Retiro Horario[MWh]')\n",
    "    fig = ax.get_figure()\n",
    "    if i <10:\n",
    "        path = \"01 - Graficos Retiro/00\"+ str(i) +'_' +column+ '.png'\n",
    "    elif i <100:\n",
    "        path = \"01 - Graficos Retiro/0\"+ str(i) +'_' +column+ '.png'\n",
    "    else:\n",
    "        path = \"01 - Graficos Retiro/\"+ str(i) +'_' +column+ '.png'\n",
    "        \n",
    "    fig.savefig(path, dpi=fig.dpi)\n",
    "    plt.clf()\n",
    "    i = i+1\n",
    "    del ax, fig"
   ]
  },
  {
   "cell_type": "code",
   "execution_count": 88,
   "metadata": {
    "collapsed": false
   },
   "outputs": [
    {
     "name": "stderr",
     "output_type": "stream",
     "text": [
      "C:\\Anaconda3\\lib\\site-packages\\matplotlib\\pyplot.py:516: RuntimeWarning: More than 20 figures have been opened. Figures created through the pyplot interface (`matplotlib.pyplot.figure`) are retained until explicitly closed and may consume too much memory. (To control this warning, see the rcParam `figure.max_open_warning`).\n",
      "  max_open_warning, RuntimeWarning)\n"
     ]
    }
   ],
   "source": [
    "frame4['ATACAMA MINERALS_Aguas Blancas 13 kV'].plot().set_title('ATACAMA MINERALS_Aguas Blancas 13 kV')\n",
    "fig = plt.figure()"
   ]
  },
  {
   "cell_type": "code",
   "execution_count": null,
   "metadata": {
    "collapsed": false
   },
   "outputs": [],
   "source": []
  },
  {
   "cell_type": "code",
   "execution_count": null,
   "metadata": {
    "collapsed": false
   },
   "outputs": [],
   "source": []
  },
  {
   "cell_type": "code",
   "execution_count": null,
   "metadata": {
    "collapsed": false
   },
   "outputs": [],
   "source": []
  },
  {
   "cell_type": "code",
   "execution_count": 121,
   "metadata": {
    "collapsed": false
   },
   "outputs": [],
   "source": []
  },
  {
   "cell_type": "code",
   "execution_count": 124,
   "metadata": {
    "collapsed": false
   },
   "outputs": [],
   "source": [
    "writer = pd.ExcelWriter('Retiro3_2016.xlsx')\n",
    "frame3.to_excel(writer,'Cliente-Gen',startrow=2,index=True,header=True)\n",
    "frame4.to_excel(writer,'Cliente',startrow=2,index=True,header=True)\n",
    "writer.save()"
   ]
  },
  {
   "cell_type": "code",
   "execution_count": 104,
   "metadata": {
    "collapsed": false
   },
   "outputs": [],
   "source": [
    "writer = pd.ExcelWriter('Retiro5_2016.xlsx')\n",
    "frame4.to_excel(writer,'Cliente',startrow=2,index=True,header=True)\n",
    "writer.save()"
   ]
  },
  {
   "cell_type": "code",
   "execution_count": null,
   "metadata": {
    "collapsed": false
   },
   "outputs": [],
   "source": []
  },
  {
   "cell_type": "code",
   "execution_count": null,
   "metadata": {
    "collapsed": false
   },
   "outputs": [],
   "source": []
  },
  {
   "cell_type": "code",
   "execution_count": null,
   "metadata": {
    "collapsed": true
   },
   "outputs": [],
   "source": []
  },
  {
   "cell_type": "code",
   "execution_count": null,
   "metadata": {
    "collapsed": true
   },
   "outputs": [],
   "source": []
  },
  {
   "cell_type": "code",
   "execution_count": null,
   "metadata": {
    "collapsed": true
   },
   "outputs": [],
   "source": []
  },
  {
   "cell_type": "code",
   "execution_count": null,
   "metadata": {
    "collapsed": true
   },
   "outputs": [],
   "source": []
  }
 ],
 "metadata": {
  "kernelspec": {
   "display_name": "Python 3",
   "language": "python",
   "name": "python3"
  },
  "language_info": {
   "codemirror_mode": {
    "name": "ipython",
    "version": 3
   },
   "file_extension": ".py",
   "mimetype": "text/x-python",
   "name": "python",
   "nbconvert_exporter": "python",
   "pygments_lexer": "ipython3",
   "version": "3.5.2"
  }
 },
 "nbformat": 4,
 "nbformat_minor": 0
}
